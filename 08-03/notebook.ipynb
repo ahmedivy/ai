{
 "cells": [
  {
   "cell_type": "code",
   "execution_count": 1,
   "metadata": {},
   "outputs": [
    {
     "data": {
      "text/plain": [
       "{0: [1, 3, 4],\n",
       " 1: [2, 4],\n",
       " 2: [5],\n",
       " 3: [4, 6],\n",
       " 4: [5, 7],\n",
       " 5: [],\n",
       " 6: [4, 7],\n",
       " 7: [5, 8],\n",
       " 8: []}"
      ]
     },
     "execution_count": 1,
     "metadata": {},
     "output_type": "execute_result"
    }
   ],
   "source": [
    "graph = {\n",
    "    0: [1, 3, 4],\n",
    "    1: [2, 4],\n",
    "    2: [5],\n",
    "    3: [4, 6],\n",
    "    4: [5, 7],\n",
    "    5: [],\n",
    "    6: [4, 7],\n",
    "    7: [5, 8],\n",
    "    8: [],\n",
    "}\n",
    "\n",
    "graph"
   ]
  },
  {
   "cell_type": "code",
   "execution_count": 2,
   "metadata": {},
   "outputs": [],
   "source": [
    "def bfs_connected_component(graph, start):\n",
    "    # keep track of all visited nodes\n",
    "    explored = []\n",
    "\n",
    "    # keep track of nodes to be checked\n",
    "    queue = [start]\n",
    "\n",
    "    # keep looping until there are nodes still to be checked\n",
    "    while queue:\n",
    "        n = queue.pop(0)\n",
    "        if n not in explored:\n",
    "            explored.append(n)\n",
    "            queue += graph[n] # add neighbors in queue\n",
    "    return explored"
   ]
  },
  {
   "cell_type": "code",
   "execution_count": 3,
   "metadata": {},
   "outputs": [
    {
     "data": {
      "text/plain": [
       "[0, 1, 3, 4, 2, 6, 5, 7, 8]"
      ]
     },
     "execution_count": 3,
     "metadata": {},
     "output_type": "execute_result"
    }
   ],
   "source": [
    "bfs_connected_component(graph, 0)"
   ]
  },
  {
   "cell_type": "code",
   "execution_count": 13,
   "metadata": {},
   "outputs": [],
   "source": [
    "def dfs_connected_component(graph, start):\n",
    "    # keep track of all visited nodes\n",
    "    explored = []\n",
    "\n",
    "    # keep track of nodes to be checked\n",
    "    stack = [start]\n",
    "\n",
    "    # keep looping until there are nodes still to be checked\n",
    "    while stack:\n",
    "        n = stack.pop(0)\n",
    "        if n not in explored:\n",
    "            explored.append(n)\n",
    "            stack = graph[n] + stack\n",
    "    return explored"
   ]
  },
  {
   "cell_type": "code",
   "execution_count": 14,
   "metadata": {},
   "outputs": [
    {
     "data": {
      "text/plain": [
       "[0, 1, 2, 5, 4, 7, 8, 3, 6]"
      ]
     },
     "execution_count": 14,
     "metadata": {},
     "output_type": "execute_result"
    }
   ],
   "source": [
    "dfs_connected_component(graph, 0)"
   ]
  },
  {
   "cell_type": "code",
   "execution_count": 21,
   "metadata": {},
   "outputs": [],
   "source": [
    "def bfs_search(graph, start, goal):\n",
    "    # keep track of all visited nodes\n",
    "    explored = []\n",
    "\n",
    "    # keep track of nodes to be checked\n",
    "    queue = [[start]]\n",
    "\n",
    "    # keep looping until there are nodes still to be checked\n",
    "    while queue:\n",
    "        path = queue.pop(0)\n",
    "        print(f'path: {path}')\n",
    "        print(f'queue: {queue}')\n",
    "        n = path[-1]\n",
    "        if n not in explored:\n",
    "            neighbors = graph[n]\n",
    "            for neighbor in neighbors:\n",
    "                new_path = list(path)\n",
    "                new_path.append(neighbor)\n",
    "                queue.append(new_path)\n",
    "                print('appeded new path', new_path)\n",
    "                if neighbor == goal:\n",
    "                    return new_path\n",
    "            explored.append(n)\n",
    "        print(f'explored: {explored}')\n",
    "        print(f'queue: {queue}')\n",
    "        print('--------------')\n",
    "    return \"No path found\""
   ]
  },
  {
   "cell_type": "code",
   "execution_count": 22,
   "metadata": {},
   "outputs": [
    {
     "name": "stdout",
     "output_type": "stream",
     "text": [
      "path: [0]\n",
      "queue: []\n",
      "appeded new path [0, 1]\n",
      "appeded new path [0, 3]\n",
      "appeded new path [0, 4]\n",
      "explored: [0]\n",
      "queue: [[0, 4], [0, 3], [0, 1]]\n",
      "--------------\n",
      "path: [0, 4]\n",
      "queue: [[0, 3], [0, 1]]\n",
      "appeded new path [0, 4, 5]\n"
     ]
    },
    {
     "data": {
      "text/plain": [
       "[0, 4, 5]"
      ]
     },
     "execution_count": 22,
     "metadata": {},
     "output_type": "execute_result"
    }
   ],
   "source": [
    "bfs_search(graph, 0, 5)"
   ]
  },
  {
   "cell_type": "code",
   "execution_count": 25,
   "metadata": {},
   "outputs": [],
   "source": [
    "def dfs_search(graph, start, goal):\n",
    "    # keep track of all visited nodes\n",
    "    explored = []\n",
    "\n",
    "    # keep track of nodes to be checked\n",
    "    stack = [[start]]\n",
    "\n",
    "    # keep looping until there are nodes still to be checked\n",
    "    while stack:\n",
    "        path = stack.pop(0)\n",
    "        print(f'path: {path}')\n",
    "        print(f'stack: {stack}')\n",
    "        n = path[-1]\n",
    "        if n not in explored:\n",
    "            neighbors = graph[n]\n",
    "            for neighbor in neighbors:\n",
    "                new_path = list(path)\n",
    "                new_path.append(neighbor)\n",
    "                stack.insert(0, new_path)\n",
    "                print('appeded new path', new_path)\n",
    "                if neighbor == goal:\n",
    "                    return new_path\n",
    "            explored.append(n)\n",
    "        print(f'explored: {explored}')\n",
    "        print(f'stack: {stack}')\n",
    "        print('--------------')\n",
    "    return []"
   ]
  },
  {
   "cell_type": "code",
   "execution_count": 26,
   "metadata": {},
   "outputs": [
    {
     "name": "stdout",
     "output_type": "stream",
     "text": [
      "path: [0]\n",
      "stack: []\n",
      "appeded new path [0, 1]\n",
      "appeded new path [0, 3]\n",
      "appeded new path [0, 4]\n",
      "explored: [0]\n",
      "stack: [[0, 4], [0, 3], [0, 1]]\n",
      "--------------\n",
      "path: [0, 4]\n",
      "stack: [[0, 3], [0, 1]]\n",
      "appeded new path [0, 4, 5]\n"
     ]
    },
    {
     "data": {
      "text/plain": [
       "[0, 4, 5]"
      ]
     },
     "execution_count": 26,
     "metadata": {},
     "output_type": "execute_result"
    }
   ],
   "source": [
    "dfs_search(graph, 0, 5)"
   ]
  },
  {
   "cell_type": "code",
   "execution_count": null,
   "metadata": {},
   "outputs": [],
   "source": []
  }
 ],
 "metadata": {
  "kernelspec": {
   "display_name": "Python 3",
   "language": "python",
   "name": "python3"
  },
  "language_info": {
   "codemirror_mode": {
    "name": "ipython",
    "version": 3
   },
   "file_extension": ".py",
   "mimetype": "text/x-python",
   "name": "python",
   "nbconvert_exporter": "python",
   "pygments_lexer": "ipython3",
   "version": "3.12.1"
  }
 },
 "nbformat": 4,
 "nbformat_minor": 2
}
