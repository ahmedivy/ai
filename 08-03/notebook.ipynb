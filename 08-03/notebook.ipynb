{
 "cells": [
  {
   "cell_type": "code",
   "execution_count": 1,
   "metadata": {},
   "outputs": [
    {
     "data": {
      "text/plain": [
       "{0: [1, 3, 4],\n",
       " 1: [2, 4],\n",
       " 2: [5],\n",
       " 3: [4, 6],\n",
       " 4: [5, 7],\n",
       " 5: [],\n",
       " 6: [4, 7],\n",
       " 7: [5, 8],\n",
       " 8: []}"
      ]
     },
     "execution_count": 1,
     "metadata": {},
     "output_type": "execute_result"
    }
   ],
   "source": [
    "graph = {\n",
    "    0: [1, 3, 4],\n",
    "    1: [2, 4],\n",
    "    2: [5],\n",
    "    3: [4, 6],\n",
    "    4: [5, 7],\n",
    "    5: [],\n",
    "    6: [4, 7],\n",
    "    7: [5, 8],\n",
    "    8: [],\n",
    "}\n",
    "\n",
    "graph"
   ]
  },
  {
   "cell_type": "code",
   "execution_count": 31,
   "metadata": {},
   "outputs": [],
   "source": [
    "def bfs_connected_component(graph, start):\n",
    "    # keep track of all visited nodes\n",
    "    explored = []\n",
    "\n",
    "    # keep track of nodes to be checked\n",
    "    queue = [start]\n",
    "\n",
    "    # keep looping until there are nodes still to be checked\n",
    "    while queue:\n",
    "        n = queue.pop(0)\n",
    "        if n not in explored:\n",
    "            explored.append(n)\n",
    "            queue += graph[n] # add neighbors in queue\n",
    "    return explored"
   ]
  },
  {
   "cell_type": "code",
   "execution_count": 35,
   "metadata": {},
   "outputs": [
    {
     "data": {
      "text/plain": [
       "[0, 1, 3, 4, 2, 6, 5, 7, 8]"
      ]
     },
     "execution_count": 35,
     "metadata": {},
     "output_type": "execute_result"
    }
   ],
   "source": [
    "bfs_connected_component(graph, 0)"
   ]
  },
  {
   "cell_type": "code",
   "execution_count": 32,
   "metadata": {},
   "outputs": [],
   "source": [
    "def dfs_connected_component(graph, start):\n",
    "    # keep track of all visited nodes\n",
    "    explored = []\n",
    "\n",
    "    # keep track of nodes to be checked\n",
    "    queue = [start]\n",
    "\n",
    "    # keep looping until there are nodes still to be checked\n",
    "    while queue:\n",
    "        n = queue.pop(0)\n",
    "        if n not in explored:\n",
    "            explored.append(n)\n",
    "            queue = graph[n] + queue\n",
    "    return explored"
   ]
  },
  {
   "cell_type": "code",
   "execution_count": 34,
   "metadata": {},
   "outputs": [
    {
     "data": {
      "text/plain": [
       "[0, 1, 2, 5, 4, 7, 8, 3, 6]"
      ]
     },
     "execution_count": 34,
     "metadata": {},
     "output_type": "execute_result"
    }
   ],
   "source": [
    "dfs_connected_component(graph, 0)"
   ]
  },
  {
   "cell_type": "code",
   "execution_count": null,
   "metadata": {},
   "outputs": [],
   "source": []
  }
 ],
 "metadata": {
  "kernelspec": {
   "display_name": "Python 3",
   "language": "python",
   "name": "python3"
  },
  "language_info": {
   "codemirror_mode": {
    "name": "ipython",
    "version": 3
   },
   "file_extension": ".py",
   "mimetype": "text/x-python",
   "name": "python",
   "nbconvert_exporter": "python",
   "pygments_lexer": "ipython3",
   "version": "3.12.1"
  }
 },
 "nbformat": 4,
 "nbformat_minor": 2
}
