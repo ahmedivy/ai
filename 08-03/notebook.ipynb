{
 "cells": [
  {
   "cell_type": "code",
   "execution_count": 5,
   "metadata": {},
   "outputs": [
    {
     "data": {
      "text/plain": [
       "{0: [1, 3, 4],\n",
       " 1: [2, 4],\n",
       " 2: [5],\n",
       " 3: [4, 6],\n",
       " 4: [5, 7],\n",
       " 5: [],\n",
       " 6: [4, 7],\n",
       " 7: [5, 8],\n",
       " 8: []}"
      ]
     },
     "execution_count": 5,
     "metadata": {},
     "output_type": "execute_result"
    }
   ],
   "source": [
    "graph = {\n",
    "    0: [1, 3, 4],\n",
    "    1: [2, 4],\n",
    "    2: [5],\n",
    "    3: [4, 6],\n",
    "    4: [5, 7],\n",
    "    5: [],\n",
    "    6: [4, 7],\n",
    "    7: [5, 8],\n",
    "    8: [],\n",
    "}\n",
    "\n",
    "graph"
   ]
  },
  {
   "cell_type": "code",
   "execution_count": 6,
   "metadata": {},
   "outputs": [],
   "source": [
    "def bfs_connected_component(graph, start):\n",
    "    # keep track of all visited nodes\n",
    "    explored = []\n",
    "\n",
    "    # keep track of nodes to be checked\n",
    "    queue = [start]\n",
    "\n",
    "    # keep looping until there are nodes still to be checked\n",
    "    while queue:\n",
    "        n = queue.pop(0)\n",
    "        if n not in explored:\n",
    "            explored.append(n)\n",
    "            queue += graph[n] # add neighbors in queue\n",
    "    return explored"
   ]
  },
  {
   "cell_type": "code",
   "execution_count": 7,
   "metadata": {},
   "outputs": [
    {
     "data": {
      "text/plain": [
       "[0, 1, 3, 4, 2, 6, 5, 7, 8]"
      ]
     },
     "execution_count": 7,
     "metadata": {},
     "output_type": "execute_result"
    }
   ],
   "source": [
    "bfs_connected_component(graph, 0)"
   ]
  },
  {
   "cell_type": "code",
   "execution_count": 8,
   "metadata": {},
   "outputs": [],
   "source": [
    "def dfs_connected_component(graph, start):\n",
    "    # keep track of all visited nodes\n",
    "    explored = []\n",
    "\n",
    "    # keep track of nodes to be checked\n",
    "    stack = [start]\n",
    "\n",
    "    # keep looping until there are nodes still to be checked\n",
    "    while stack:\n",
    "        n = stack.pop(0)\n",
    "        if n not in explored:\n",
    "            explored.append(n)\n",
    "            stack = graph[n] + stack\n",
    "            stack = [2,4,0,1]\n",
    "    return explored"
   ]
  },
  {
   "cell_type": "code",
   "execution_count": 9,
   "metadata": {},
   "outputs": [
    {
     "data": {
      "text/plain": [
       "[0, 2, 4, 1]"
      ]
     },
     "execution_count": 9,
     "metadata": {},
     "output_type": "execute_result"
    }
   ],
   "source": [
    "dfs_connected_component(graph, 0)"
   ]
  },
  {
   "cell_type": "code",
   "execution_count": 29,
   "metadata": {},
   "outputs": [],
   "source": [
    "def bfs_search(graph, start, goal):\n",
    "    # keep track of all visited nodes\n",
    "    explored = []\n",
    "\n",
    "    # keep track of nodes to be checked\n",
    "    queue = [[start]]\n",
    "\n",
    "    # keep looping until there are nodes still to be checked\n",
    "    while queue:\n",
    "        path = queue.pop(0)\n",
    "        n = path[-1]\n",
    "        if n not in explored:\n",
    "            neighbors = graph[n]\n",
    "            for neighbor in neighbors:\n",
    "                new_path = list(path)\n",
    "                new_path.append(neighbor)\n",
    "                queue.append(new_path)\n",
    "                if neighbor == goal:\n",
    "                    return new_path\n",
    "            explored.append(n)\n",
    "    return []"
   ]
  },
  {
   "cell_type": "code",
   "execution_count": 30,
   "metadata": {},
   "outputs": [
    {
     "data": {
      "text/plain": [
       "[0, 4, 5]"
      ]
     },
     "execution_count": 30,
     "metadata": {},
     "output_type": "execute_result"
    }
   ],
   "source": [
    "bfs_search(graph, 0, 5)"
   ]
  },
  {
   "cell_type": "code",
   "execution_count": 31,
   "metadata": {},
   "outputs": [],
   "source": [
    "def dfs_search(graph, start, goal):\n",
    "    # keep track of all visited nodes\n",
    "    explored = []\n",
    "\n",
    "    # keep track of nodes to be checked\n",
    "    stack = [[start]]\n",
    "\n",
    "    # keep looping until there are nodes still to be checked\n",
    "    while stack:\n",
    "        path = stack.pop(0)\n",
    "        n = path[-1]\n",
    "        if n not in explored:\n",
    "            neighbors = graph[n]\n",
    "            for neighbor in neighbors:\n",
    "                new_path = list(path)\n",
    "                new_path.append(neighbor)\n",
    "                stack.insert(0, new_path)\n",
    "                if neighbor == goal:\n",
    "                    return new_path\n",
    "            explored.append(n)\n",
    "    return []"
   ]
  },
  {
   "cell_type": "code",
   "execution_count": 23,
   "metadata": {},
   "outputs": [
    {
     "data": {
      "text/plain": [
       "[0, 3, 6]"
      ]
     },
     "execution_count": 23,
     "metadata": {},
     "output_type": "execute_result"
    }
   ],
   "source": [
    "dfs_search(graph, 0, 6)"
   ]
  },
  {
   "cell_type": "code",
   "execution_count": 32,
   "metadata": {},
   "outputs": [],
   "source": [
    "city_graph = {\n",
    "    \"Oardea\": [\"Zerind\", \"Sibiu\"],\n",
    "    \"Zerind\": [\"Arad\", \"Oardea\"],\n",
    "    \"Arad\": [\"Zerind\", \"Timisoara\", \"Sibiu\"],\n",
    "    \"Timisoara\": [\"Arad\", \"Lugoj\"],\n",
    "    \"Lugoj\": [\"Timisoara\", \"Mehadia\"],\n",
    "    \"Mehadia\": [\"Lugoj\", \"Drobeta\"],\n",
    "    \"Drobeta\": [\"Mehadia\", \"Craiova\"],\n",
    "    \"Craiova\": [\"Drobeta\", \"Rimnicu Vilcea\", \"Pitesti\"],\n",
    "    \"Rimnicu Vilcea\": [\"Craiova\", \"Pitesti\", \"Sibiu\"],\n",
    "    \"Sibiu\": [\"Arad\", \"Rimnicu Vilcea\", \"Fagaras\", \"Oardea\"],\n",
    "    \"Fagaras\": [\"Sibiu\", \"Bucharest\"],\n",
    "    \"Pitesti\": [\"Rimnicu Vilcea\", \"Craiova\", \"Bucharest\"],\n",
    "    \"Bucharest\": [\"Fagaras\", \"Pitesti\", \"Giurgiu\", \"Urziceni\"],\n",
    "    \"Giurgiu\": [\"Bucharest\"],\n",
    "    \"Urziceni\": [\"Bucharest\", \"Hirsova\", \"Vaslui\"],\n",
    "    \"Hirsova\": [\"Urziceni\", \"Eforie\"],\n",
    "    \"Eforie\": [\"Hirsova\"],\n",
    "    \"Vaslui\": [\"Urziceni\", \"Iasi\"],\n",
    "    \"Iasi\": [\"Vaslui\", \"Neamt\"],\n",
    "    \"Neamt\": [\"Iasi\"]\n",
    "}"
   ]
  },
  {
   "cell_type": "code",
   "execution_count": 36,
   "metadata": {},
   "outputs": [
    {
     "data": {
      "text/plain": [
       "['Arad', 'Sibiu', 'Fagaras', 'Bucharest']"
      ]
     },
     "execution_count": 36,
     "metadata": {},
     "output_type": "execute_result"
    }
   ],
   "source": [
    "bfs_search(city_graph, \"Arad\", \"Bucharest\")"
   ]
  },
  {
   "cell_type": "code",
   "execution_count": null,
   "metadata": {},
   "outputs": [],
   "source": []
  }
 ],
 "metadata": {
  "kernelspec": {
   "display_name": "Python 3",
   "language": "python",
   "name": "python3"
  },
  "language_info": {
   "codemirror_mode": {
    "name": "ipython",
    "version": 3
   },
   "file_extension": ".py",
   "mimetype": "text/x-python",
   "name": "python",
   "nbconvert_exporter": "python",
   "pygments_lexer": "ipython3",
   "version": "3.12.1"
  }
 },
 "nbformat": 4,
 "nbformat_minor": 2
}
