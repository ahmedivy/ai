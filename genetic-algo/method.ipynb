{
 "cells": [
  {
   "cell_type": "code",
   "execution_count": 1,
   "metadata": {},
   "outputs": [],
   "source": [
    "import random\n",
    "import math\n",
    "\n",
    "\n",
    "class GA:\n",
    "    def __init__(self, individualSize, populationSize):\n",
    "        self.population = dict()\n",
    "        self.individualSize = individualSize\n",
    "        self.populationSize = populationSize\n",
    "        self.totalFitness = 0\n",
    "        i = 0\n",
    "        while i < populationSize:\n",
    "            listOfBits = [0] * individualSize\n",
    "            listOfLocations = list(range(0, individualSize))\n",
    "            numberOfOnes = random.randint(0, individualSize - 1)\n",
    "            onesLocations = random.sample(listOfLocations, numberOfOnes)\n",
    "            for j in onesLocations:\n",
    "                listOfBits[j] = 1\n",
    "            self.population[i] = [listOfBits, numberOfOnes]\n",
    "            self.totalFitness = self.totalFitness + numberOfOnes\n",
    "            i = i + 1\n",
    "\n",
    "    def updatePopulationFitness(self):\n",
    "        self.totalFitness = 0\n",
    "        for individual in self.population:\n",
    "            individualFitness = sum(self.population[individual][0])\n",
    "            self.population[individual][1] = individualFitness\n",
    "            self.totalFitness = self.totalFitness + individualFitness\n",
    "\n",
    "    def selectParents(self):\n",
    "        rouletteWheel = []\n",
    "        wheelSize = self.populationSize * 5\n",
    "        h_n = []\n",
    "        for individual in self.population:\n",
    "            h_n.append(self.population[individual][1])\n",
    "        j = 0\n",
    "        for individual in self.population:\n",
    "            individualLength = round(wheelSize * (h_n[j] / sum(h_n)))\n",
    "            j = j + 1\n",
    "            if individualLength > 0:\n",
    "                i = 0\n",
    "            while i < individualLength:\n",
    "                rouletteWheel.append(individual)\n",
    "                i = i + 1\n",
    "            random.shuffle(rouletteWheel)\n",
    "        parentIndices = []\n",
    "        i = 0\n",
    "        while i < self.populationSize:\n",
    "            parentIndices.append(\n",
    "                rouletteWheel[random.randint(0, len(rouletteWheel) - 1)]\n",
    "            )\n",
    "            i = i + 1\n",
    "        newGeneration = dict()\n",
    "        i = 0\n",
    "        while i < self.populationSize:\n",
    "            newGeneration[i] = self.population[parentIndices[i]].copy()\n",
    "            i = i + 1\n",
    "        del self.population\n",
    "        self.population = newGeneration.copy()\n",
    "        self.updatePopulationFitness()\n",
    "\n",
    "    def generateChildren(self, crossoverProbability):\n",
    "        numberOfPairs = round(crossoverProbability * self.populationSize / 2)\n",
    "        individualIndices = list(range(0, self.populationSize))\n",
    "        random.shuffle(individualIndices)\n",
    "        i = 0\n",
    "        j = 0\n",
    "        while i < numberOfPairs:\n",
    "            crossoverPoint = random.randint(0, self.individualSize - 1)\n",
    "            child1 = (\n",
    "                self.population[j][0][0:crossoverPoint]\n",
    "                + self.population[j + 1][0][crossoverPoint:]\n",
    "            )\n",
    "            child2 = (\n",
    "                self.population[j + 1][0][0:crossoverPoint]\n",
    "                + self.population[j][0][crossoverPoint:]\n",
    "            )\n",
    "            self.population[j] = [child1, sum(child1)]\n",
    "            self.population[j + 1] = [child2, sum(child2)]\n",
    "            i = i + 1\n",
    "            j = j + 2\n",
    "        self.updatePopulationFitness()\n",
    "\n",
    "    \n"
   ]
  },
  {
   "cell_type": "code",
   "execution_count": 2,
   "metadata": {},
   "outputs": [],
   "source": [
    "g = GA(8, 5)"
   ]
  },
  {
   "cell_type": "code",
   "execution_count": 3,
   "metadata": {},
   "outputs": [
    {
     "data": {
      "text/plain": [
       "{0: [[0, 0, 0, 0, 0, 0, 0, 0], 0],\n",
       " 1: [[0, 1, 1, 1, 1, 1, 1, 1], 7],\n",
       " 2: [[0, 0, 0, 0, 1, 0, 1, 0], 2],\n",
       " 3: [[0, 0, 0, 0, 0, 0, 0, 1], 1],\n",
       " 4: [[1, 1, 1, 0, 1, 1, 1, 1], 7]}"
      ]
     },
     "execution_count": 3,
     "metadata": {},
     "output_type": "execute_result"
    }
   ],
   "source": [
    "g.population"
   ]
  },
  {
   "cell_type": "code",
   "execution_count": null,
   "metadata": {},
   "outputs": [],
   "source": []
  }
 ],
 "metadata": {
  "kernelspec": {
   "display_name": "Python 3",
   "language": "python",
   "name": "python3"
  },
  "language_info": {
   "codemirror_mode": {
    "name": "ipython",
    "version": 3
   },
   "file_extension": ".py",
   "mimetype": "text/x-python",
   "name": "python",
   "nbconvert_exporter": "python",
   "pygments_lexer": "ipython3",
   "version": "3.12.1"
  }
 },
 "nbformat": 4,
 "nbformat_minor": 2
}
