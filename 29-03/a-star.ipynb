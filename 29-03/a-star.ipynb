{
 "cells": [
  {
   "cell_type": "code",
   "execution_count": 1,
   "metadata": {},
   "outputs": [],
   "source": [
    "from queue import PriorityQueue\n",
    "\n",
    "\n",
    "class Graph:\n",
    "    def __init__(self):\n",
    "        self.graph = {\n",
    "            \"A\": [(146, (\"A\", \"O\")), (140, (\"A\", \"S\")), (494, (\"A\", \"C\"))],\n",
    "            \"O\": [(146, (\"O\", \"A\")), (151, (\"O\", \"S\"))],\n",
    "            \"S\": [\n",
    "                (151, (\"S\", \"O\")),\n",
    "                (140, (\"S\", \"A\")),\n",
    "                (80, (\"S\", \"R\")),\n",
    "                (99, (\"S\", \"F\")),\n",
    "            ],\n",
    "            \"C\": [(494, (\"C\", \"A\")), (146, (\"C\", \"R\"))],\n",
    "            \"R\": [(80, (\"R\", \"S\")), (146, (\"R\", \"C\")), (97, (\"R\", \"P\"))],\n",
    "            \"F\": [(99, (\"F\", \"S\")), (211, (\"F\", \"B\"))],\n",
    "            \"B\": [(211, (\"B\", \"F\")), (101, (\"B\", \"P\"))],\n",
    "            \"P\": [(101, (\"P\", \"B\")), (97, (\"P\", \"R\")), (138, (\"P\", \"C\"))],\n",
    "        }\n",
    "        # heuristics for Node B\n",
    "        self.heristics = {\n",
    "            \"A\" : 10,\n",
    "            \"O\" : 9,\n",
    "            \"S\" : 7,\n",
    "            \"C\" : 8,\n",
    "            \"R\" : 6,\n",
    "            \"F\" : 5,\n",
    "            \"P\": 3,\n",
    "            \"B\": 0\n",
    "        }\n",
    "\n",
    "        self.edges = {}\n",
    "        self.weights = {}\n",
    "        self.populate_edges()\n",
    "        self.populate_weights()\n",
    "\n",
    "    def populate_edges(self):\n",
    "        for node, edges in self.graph.items():\n",
    "            neighbours = [n2 for _, (_, n2) in edges]\n",
    "            self.edges[node] = neighbours\n",
    "\n",
    "\n",
    "    def populate_weights(self):\n",
    "        for node, edges in self.graph.items():\n",
    "            for cost, edge in edges:\n",
    "                self.weights[edge] = cost\n",
    "\n",
    "    def neighbors(self, node):\n",
    "        return self.edges[node]\n",
    "\n",
    "    def get_cost(self, from_node, to_node):\n",
    "        return self.weights[(from_node, to_node)]\n",
    "\n",
    "\n",
    "def ucs(graph: Graph, start, goal):\n",
    "    visited = []\n",
    "    queue = PriorityQueue()\n",
    "    queue.put((0, start))\n",
    "\n",
    "    while queue.not_empty:\n",
    "        cost, node = queue.get()\n",
    "        if node not in visited:\n",
    "            visited.append(node)\n",
    "\n",
    "            if node == goal:\n",
    "                return visited\n",
    "\n",
    "            for n in graph.neighbors(node):\n",
    "                if n not in visited:\n",
    "                    total_cost = cost + graph.get_cost(node, n)\n",
    "                    queue.put((total_cost, n))\n",
    "    return visited\n",
    "\n",
    "\n",
    "def gbfs(graph: Graph, start, goal):\n",
    "    visited = []\n",
    "    queue = PriorityQueue()\n",
    "    queue.put((0, start))\n",
    "\n",
    "    while queue.not_empty:\n",
    "        cost, node = queue.get()\n",
    "        if node not in visited:\n",
    "            visited.append(node)\n",
    "\n",
    "            if node == goal:\n",
    "                return visited\n",
    "\n",
    "            for n in graph.neighbors(node):\n",
    "                if n not in visited:\n",
    "                    total_cost = graph.heristics[n]\n",
    "                    queue.put((total_cost, n))\n",
    "    return visited\n",
    "\n",
    "def a_star(graph: Graph, start, goal):\n",
    "    visited = []\n",
    "    queue = PriorityQueue()\n",
    "    queue.put((graph.heristics[start], start))\n",
    "\n",
    "    while queue.not_empty:\n",
    "        cost, node = queue.get()\n",
    "        if node not in visited:\n",
    "            visited.append(node)\n",
    "\n",
    "            if node == goal:\n",
    "                return visited\n",
    "\n",
    "            for n in graph.neighbors(node):\n",
    "                if n not in visited:\n",
    "                    total_cost = cost + graph.get_cost(node, n) + graph.heristics[n]\n",
    "                    queue.put((total_cost, n))\n",
    "    return visited"
   ]
  },
  {
   "cell_type": "code",
   "execution_count": 4,
   "metadata": {},
   "outputs": [
    {
     "name": "stdout",
     "output_type": "stream",
     "text": [
      "Edges:  {'A': ['O', 'S', 'C'], 'O': ['A', 'S'], 'S': ['O', 'A', 'R', 'F'], 'C': ['A', 'R'], 'R': ['S', 'C', 'P'], 'F': ['S', 'B'], 'B': ['F', 'P'], 'P': ['B', 'R', 'C']}\n",
      "Weights:  {('A', 'O'): 146, ('A', 'S'): 140, ('A', 'C'): 494, ('O', 'A'): 146, ('O', 'S'): 151, ('S', 'O'): 151, ('S', 'A'): 140, ('S', 'R'): 80, ('S', 'F'): 99, ('C', 'A'): 494, ('C', 'R'): 146, ('R', 'S'): 80, ('R', 'C'): 146, ('R', 'P'): 97, ('F', 'S'): 99, ('F', 'B'): 211, ('B', 'F'): 211, ('B', 'P'): 101, ('P', 'B'): 101, ('P', 'R'): 97, ('P', 'C'): 138}\n",
      "Heuristics:  {'A': 10, 'O': 9, 'S': 7, 'C': 8, 'R': 6, 'F': 5, 'P': 3, 'B': 0}\n"
     ]
    }
   ],
   "source": [
    "g = Graph()\n",
    "\n",
    "print(\"Edges: \",  g.edges)\n",
    "print(\"Weights: \",  g.weights)\n",
    "print(\"Heuristics: \", g.heristics)\n",
    "\n"
   ]
  },
  {
   "cell_type": "code",
   "execution_count": 5,
   "metadata": {},
   "outputs": [
    {
     "data": {
      "text/plain": [
       "['A', 'S', 'O', 'R', 'F', 'P', 'C', 'B']"
      ]
     },
     "execution_count": 5,
     "metadata": {},
     "output_type": "execute_result"
    }
   ],
   "source": [
    "a_star(g, \"A\", \"B\")"
   ]
  },
  {
   "cell_type": "code",
   "execution_count": null,
   "metadata": {},
   "outputs": [],
   "source": []
  }
 ],
 "metadata": {
  "kernelspec": {
   "display_name": "Python 3",
   "language": "python",
   "name": "python3"
  },
  "language_info": {
   "codemirror_mode": {
    "name": "ipython",
    "version": 3
   },
   "file_extension": ".py",
   "mimetype": "text/x-python",
   "name": "python",
   "nbconvert_exporter": "python",
   "pygments_lexer": "ipython3",
   "version": "3.12.1"
  }
 },
 "nbformat": 4,
 "nbformat_minor": 2
}
